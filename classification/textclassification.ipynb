{
 "cells": [
  {
   "cell_type": "code",
   "execution_count": 31,
   "metadata": {},
   "outputs": [],
   "source": [
    "import pandas as pd"
   ]
  },
  {
   "cell_type": "code",
   "execution_count": 3,
   "metadata": {},
   "outputs": [],
   "source": [
    "import boto3\n",
    "\n",
    "# Let's use Amazon S3\n",
    "s3 = boto3.resource('s3')\n",
    "client = boto3.client('comprehend')"
   ]
  },
  {
   "cell_type": "code",
   "execution_count": 55,
   "metadata": {},
   "outputs": [],
   "source": [
    "response = client.start_topics_detection_job(\n",
    "    InputDataConfig = {'S3Uri': 's3://piazzadata/minidata.txt',\n",
    "                       'InputFormat': 'ONE_DOC_PER_LINE',\n",
    "                    #    'DocumentReaderConfig': \n",
    "                    #             {'DocumentReadAction': 'TEXTRACT_DETECT_DOCUMENT_TEXT'}\n",
    "                       },\n",
    "    OutputDataConfig = {'S3Uri': 's3://piazzadata/output.tar.gz'},\n",
    "    DataAccessRoleArn = 'arn:aws:iam::852069794117:role/service-role/AmazonComprehendServiceRole-test1',\n",
    "    JobName = 'topic_modelling',\n",
    "    NumberOfTopics = 10,\n",
    ")"
   ]
  },
  {
   "cell_type": "code",
   "execution_count": 56,
   "metadata": {},
   "outputs": [
    {
     "data": {
      "text/plain": [
       "{'JobId': 'ae5d7adc92e4d3003c8519943ab5dadf',\n",
       " 'JobArn': 'arn:aws:comprehend:us-west-2:852069794117:topics-detection-job/ae5d7adc92e4d3003c8519943ab5dadf',\n",
       " 'JobStatus': 'SUBMITTED',\n",
       " 'ResponseMetadata': {'RequestId': '087d9ba0-27af-4035-a411-fb3cd197eab7',\n",
       "  'HTTPStatusCode': 200,\n",
       "  'HTTPHeaders': {'x-amzn-requestid': '087d9ba0-27af-4035-a411-fb3cd197eab7',\n",
       "   'content-type': 'application/x-amz-json-1.1',\n",
       "   'content-length': '175',\n",
       "   'date': 'Sat, 02 Mar 2024 23:14:20 GMT'},\n",
       "  'RetryAttempts': 0}}"
      ]
     },
     "execution_count": 56,
     "metadata": {},
     "output_type": "execute_result"
    }
   ],
   "source": [
    "response"
   ]
  },
  {
   "cell_type": "code",
   "execution_count": 4,
   "metadata": {},
   "outputs": [
    {
     "ename": "NameError",
     "evalue": "name 'response' is not defined",
     "output_type": "error",
     "traceback": [
      "\u001b[1;31m---------------------------------------------------------------------------\u001b[0m",
      "\u001b[1;31mNameError\u001b[0m                                 Traceback (most recent call last)",
      "Cell \u001b[1;32mIn[4], line 2\u001b[0m\n\u001b[0;32m      1\u001b[0m response2 \u001b[38;5;241m=\u001b[39m client\u001b[38;5;241m.\u001b[39mdescribe_topics_detection_job(\n\u001b[1;32m----> 2\u001b[0m     JobId\u001b[38;5;241m=\u001b[39m\u001b[43mresponse\u001b[49m[\u001b[38;5;124m'\u001b[39m\u001b[38;5;124mJobId\u001b[39m\u001b[38;5;124m'\u001b[39m]\n\u001b[0;32m      3\u001b[0m )\n\u001b[0;32m      4\u001b[0m response2[\u001b[38;5;124m\"\u001b[39m\u001b[38;5;124mTopicsDetectionJobProperties\u001b[39m\u001b[38;5;124m\"\u001b[39m][\u001b[38;5;124m\"\u001b[39m\u001b[38;5;124mJobStatus\u001b[39m\u001b[38;5;124m\"\u001b[39m]\n",
      "\u001b[1;31mNameError\u001b[0m: name 'response' is not defined"
     ]
    }
   ],
   "source": [
    "response2 = client.describe_topics_detection_job(\n",
    "    JobId=response['JobId']\n",
    ")\n",
    "response2[\"TopicsDetectionJobProperties\"][\"JobStatus\"]"
   ]
  },
  {
   "cell_type": "code",
   "execution_count": null,
   "metadata": {},
   "outputs": [],
   "source": []
  },
  {
   "cell_type": "code",
   "execution_count": 63,
   "metadata": {},
   "outputs": [],
   "source": []
  },
  {
   "cell_type": "code",
   "execution_count": null,
   "metadata": {},
   "outputs": [],
   "source": []
  }
 ],
 "metadata": {
  "kernelspec": {
   "display_name": "Python 3",
   "language": "python",
   "name": "python3"
  },
  "language_info": {
   "codemirror_mode": {
    "name": "ipython",
    "version": 3
   },
   "file_extension": ".py",
   "mimetype": "text/x-python",
   "name": "python",
   "nbconvert_exporter": "python",
   "pygments_lexer": "ipython3",
   "version": "3.12.2"
  }
 },
 "nbformat": 4,
 "nbformat_minor": 2
}
